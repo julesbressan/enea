{
 "cells": [
  {
   "cell_type": "code",
   "execution_count": 22,
   "metadata": {},
   "outputs": [
    {
     "name": "stdout",
     "output_type": "stream",
     "text": [
      "Importing raw data...\n"
     ]
    },
    {
     "data": {
      "text/html": [
       "<div>\n",
       "<style scoped>\n",
       "    .dataframe tbody tr th:only-of-type {\n",
       "        vertical-align: middle;\n",
       "    }\n",
       "\n",
       "    .dataframe tbody tr th {\n",
       "        vertical-align: top;\n",
       "    }\n",
       "\n",
       "    .dataframe thead th {\n",
       "        text-align: right;\n",
       "    }\n",
       "</style>\n",
       "<table border=\"1\" class=\"dataframe\">\n",
       "  <thead>\n",
       "    <tr style=\"text-align: right;\">\n",
       "      <th></th>\n",
       "      <th>ACCIDENT_NO</th>\n",
       "      <th>ATMOSPH_COND</th>\n",
       "      <th>ATMOSPH_COND_SEQ</th>\n",
       "      <th>Atmosph Cond Desc</th>\n",
       "    </tr>\n",
       "  </thead>\n",
       "  <tbody>\n",
       "    <tr>\n",
       "      <th>0</th>\n",
       "      <td>T20060000010</td>\n",
       "      <td>1</td>\n",
       "      <td>1</td>\n",
       "      <td>Clear</td>\n",
       "    </tr>\n",
       "    <tr>\n",
       "      <th>1</th>\n",
       "      <td>T20060000018</td>\n",
       "      <td>1</td>\n",
       "      <td>1</td>\n",
       "      <td>Clear</td>\n",
       "    </tr>\n",
       "    <tr>\n",
       "      <th>2</th>\n",
       "      <td>T20060000022</td>\n",
       "      <td>1</td>\n",
       "      <td>1</td>\n",
       "      <td>Clear</td>\n",
       "    </tr>\n",
       "    <tr>\n",
       "      <th>3</th>\n",
       "      <td>T20060000023</td>\n",
       "      <td>1</td>\n",
       "      <td>1</td>\n",
       "      <td>Clear</td>\n",
       "    </tr>\n",
       "    <tr>\n",
       "      <th>4</th>\n",
       "      <td>T20060000026</td>\n",
       "      <td>1</td>\n",
       "      <td>1</td>\n",
       "      <td>Clear</td>\n",
       "    </tr>\n",
       "  </tbody>\n",
       "</table>\n",
       "</div>"
      ],
      "text/plain": [
       "    ACCIDENT_NO  ATMOSPH_COND  ATMOSPH_COND_SEQ Atmosph Cond Desc\n",
       "0  T20060000010             1                 1             Clear\n",
       "1  T20060000018             1                 1             Clear\n",
       "2  T20060000022             1                 1             Clear\n",
       "3  T20060000023             1                 1             Clear\n",
       "4  T20060000026             1                 1             Clear"
      ]
     },
     "execution_count": 22,
     "metadata": {},
     "output_type": "execute_result"
    }
   ],
   "source": [
    "import pandas as pd\n",
    "from structure import *\n",
    "\n",
    "print(\"Importing raw data...\")\n",
    "df_atm_conditions = pd.read_csv(RAW_DATA_ROOTFOLDER / \"ATMOSPHERIC_COND.csv\")\n",
    "df_atm_conditions.head()\n"
   ]
  },
  {
   "cell_type": "code",
   "execution_count": 35,
   "metadata": {},
   "outputs": [
    {
     "data": {
      "text/plain": [
       "Clear           164227\n",
       "Raining          22018\n",
       "Not known        14839\n",
       "Strong winds      3034\n",
       "Fog               1918\n",
       "Dust               555\n",
       "Smoke              279\n",
       "Snowing             88\n",
       "Name: Atmosph Cond Desc, dtype: int64"
      ]
     },
     "execution_count": 35,
     "metadata": {},
     "output_type": "execute_result"
    }
   ],
   "source": [
    "df = df_atm_conditions[[\"ACCIDENT_NO\",\"Atmosph Cond Desc\" ]]\n",
    "\n",
    "#There is ~3000 duplicates in ACCIDENT_NO due to the sequences. \n",
    "#I decided to keep the granularity to ACCIDENT_NO by only keeping the last of the sequence\n",
    "#df=df[~df.duplicated(subset=\"ACCIDENT_NO\", keep=\"Last\")] \n",
    "df[\"Atmosph Cond Desc\"].value_counts()"
   ]
  },
  {
   "cell_type": "code",
   "execution_count": 24,
   "metadata": {},
   "outputs": [
    {
     "data": {
      "text/html": [
       "<div>\n",
       "<style scoped>\n",
       "    .dataframe tbody tr th:only-of-type {\n",
       "        vertical-align: middle;\n",
       "    }\n",
       "\n",
       "    .dataframe tbody tr th {\n",
       "        vertical-align: top;\n",
       "    }\n",
       "\n",
       "    .dataframe thead th {\n",
       "        text-align: right;\n",
       "    }\n",
       "</style>\n",
       "<table border=\"1\" class=\"dataframe\">\n",
       "  <thead>\n",
       "    <tr style=\"text-align: right;\">\n",
       "      <th></th>\n",
       "      <th>Atmosph Cond Desc</th>\n",
       "    </tr>\n",
       "    <tr>\n",
       "      <th>ACCIDENT_NO</th>\n",
       "      <th></th>\n",
       "    </tr>\n",
       "  </thead>\n",
       "  <tbody>\n",
       "    <tr>\n",
       "      <th>T20060000010</th>\n",
       "      <td>Clear</td>\n",
       "    </tr>\n",
       "    <tr>\n",
       "      <th>T20060000018</th>\n",
       "      <td>Clear</td>\n",
       "    </tr>\n",
       "    <tr>\n",
       "      <th>T20060000022</th>\n",
       "      <td>Clear</td>\n",
       "    </tr>\n",
       "    <tr>\n",
       "      <th>T20060000023</th>\n",
       "      <td>Clear</td>\n",
       "    </tr>\n",
       "    <tr>\n",
       "      <th>T20060000026</th>\n",
       "      <td>Clear</td>\n",
       "    </tr>\n",
       "    <tr>\n",
       "      <th>...</th>\n",
       "      <td>...</td>\n",
       "    </tr>\n",
       "    <tr>\n",
       "      <th>T20200019239</th>\n",
       "      <td>Clear</td>\n",
       "    </tr>\n",
       "    <tr>\n",
       "      <th>T20200019247</th>\n",
       "      <td>Clear</td>\n",
       "    </tr>\n",
       "    <tr>\n",
       "      <th>T20200019250</th>\n",
       "      <td>Clear</td>\n",
       "    </tr>\n",
       "    <tr>\n",
       "      <th>T20200019253</th>\n",
       "      <td>Clear</td>\n",
       "    </tr>\n",
       "    <tr>\n",
       "      <th>T20200019417</th>\n",
       "      <td>Clear</td>\n",
       "    </tr>\n",
       "  </tbody>\n",
       "</table>\n",
       "<p>203708 rows × 1 columns</p>\n",
       "</div>"
      ],
      "text/plain": [
       "             Atmosph Cond Desc\n",
       "ACCIDENT_NO                   \n",
       "T20060000010             Clear\n",
       "T20060000018             Clear\n",
       "T20060000022             Clear\n",
       "T20060000023             Clear\n",
       "T20060000026             Clear\n",
       "...                        ...\n",
       "T20200019239             Clear\n",
       "T20200019247             Clear\n",
       "T20200019250             Clear\n",
       "T20200019253             Clear\n",
       "T20200019417             Clear\n",
       "\n",
       "[203708 rows x 1 columns]"
      ]
     },
     "execution_count": 24,
     "metadata": {},
     "output_type": "execute_result"
    }
   ],
   "source": [
    "df = df.set_index(\"ACCIDENT_NO\", verify_integrity=True)\n",
    "df\n"
   ]
  },
  {
   "cell_type": "code",
   "execution_count": 37,
   "metadata": {},
   "outputs": [
    {
     "data": {
      "text/plain": [
       "Clear           164227\n",
       "Raining          22018\n",
       "Not known        14839\n",
       "Strong winds      3034\n",
       "Fog               1918\n",
       "Dust               555\n",
       "Smoke              279\n",
       "Snowing             88\n",
       "Name: Atmosph Cond Desc, dtype: int64"
      ]
     },
     "execution_count": 37,
     "metadata": {},
     "output_type": "execute_result"
    }
   ],
   "source": [
    "df[\"Atmosph Cond Desc\"].value_counts()"
   ]
  },
  {
   "cell_type": "code",
   "execution_count": null,
   "metadata": {},
   "outputs": [],
   "source": []
  }
 ],
 "metadata": {
  "interpreter": {
   "hash": "b5bf3126fcf244ff5ac9fc2cf1909ebb37adde4bc8219a2b7ff5fa45e97d9ab6"
  },
  "kernelspec": {
   "display_name": "Python 3.9.7 ('enea_task')",
   "language": "python",
   "name": "python3"
  },
  "language_info": {
   "codemirror_mode": {
    "name": "ipython",
    "version": 3
   },
   "file_extension": ".py",
   "mimetype": "text/x-python",
   "name": "python",
   "nbconvert_exporter": "python",
   "pygments_lexer": "ipython3",
   "version": "3.9.7"
  },
  "orig_nbformat": 4
 },
 "nbformat": 4,
 "nbformat_minor": 2
}
