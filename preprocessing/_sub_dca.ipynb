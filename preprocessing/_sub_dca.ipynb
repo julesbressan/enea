{
 "cells": [
  {
   "cell_type": "code",
   "execution_count": 17,
   "metadata": {},
   "outputs": [],
   "source": [
    "import pandas as pd\n",
    "from config import * \n"
   ]
  },
  {
   "cell_type": "code",
   "execution_count": 18,
   "metadata": {},
   "outputs": [
    {
     "data": {
      "text/html": [
       "<div>\n",
       "<style scoped>\n",
       "    .dataframe tbody tr th:only-of-type {\n",
       "        vertical-align: middle;\n",
       "    }\n",
       "\n",
       "    .dataframe tbody tr th {\n",
       "        vertical-align: top;\n",
       "    }\n",
       "\n",
       "    .dataframe thead th {\n",
       "        text-align: right;\n",
       "    }\n",
       "</style>\n",
       "<table border=\"1\" class=\"dataframe\">\n",
       "  <thead>\n",
       "    <tr style=\"text-align: right;\">\n",
       "      <th></th>\n",
       "      <th>ACCIDENT_NO</th>\n",
       "      <th>SUB_DCA_CODE</th>\n",
       "      <th>SUB_DCA_SEQ</th>\n",
       "      <th>Sub Dca Code Desc</th>\n",
       "    </tr>\n",
       "  </thead>\n",
       "  <tbody>\n",
       "    <tr>\n",
       "      <th>0</th>\n",
       "      <td>T20060000010</td>\n",
       "      <td>NRQ</td>\n",
       "      <td>1</td>\n",
       "      <td>Not Required</td>\n",
       "    </tr>\n",
       "    <tr>\n",
       "      <th>1</th>\n",
       "      <td>T20060000018</td>\n",
       "      <td>NRQ</td>\n",
       "      <td>1</td>\n",
       "      <td>Not Required</td>\n",
       "    </tr>\n",
       "    <tr>\n",
       "      <th>2</th>\n",
       "      <td>T20060000022</td>\n",
       "      <td>X02</td>\n",
       "      <td>1</td>\n",
       "      <td>Fell from vehicle</td>\n",
       "    </tr>\n",
       "    <tr>\n",
       "      <th>3</th>\n",
       "      <td>T20060000023</td>\n",
       "      <td>A01</td>\n",
       "      <td>2</td>\n",
       "      <td>Vehicle entering intersection</td>\n",
       "    </tr>\n",
       "    <tr>\n",
       "      <th>4</th>\n",
       "      <td>T20060000023</td>\n",
       "      <td>N02</td>\n",
       "      <td>1</td>\n",
       "      <td>Mid-block</td>\n",
       "    </tr>\n",
       "  </tbody>\n",
       "</table>\n",
       "</div>"
      ],
      "text/plain": [
       "    ACCIDENT_NO SUB_DCA_CODE  SUB_DCA_SEQ              Sub Dca Code Desc\n",
       "0  T20060000010          NRQ            1                   Not Required\n",
       "1  T20060000018          NRQ            1                   Not Required\n",
       "2  T20060000022          X02            1              Fell from vehicle\n",
       "3  T20060000023          A01            2  Vehicle entering intersection\n",
       "4  T20060000023          N02            1                      Mid-block"
      ]
     },
     "execution_count": 18,
     "metadata": {},
     "output_type": "execute_result"
    }
   ],
   "source": [
    "raw_df = pd.read_csv(CFG.data_rootfolder / \"SUBDCA.csv\")\n",
    "df = raw_df \n",
    "df.head()"
   ]
  },
  {
   "cell_type": "code",
   "execution_count": 19,
   "metadata": {},
   "outputs": [
    {
     "data": {
      "text/plain": [
       "Not Required                                    64699\n",
       "No vehicle mounted/struck                       31043\n",
       "Intersection                                    20908\n",
       "Mid-block                                       20359\n",
       "Vehicle entering intersection                   15206\n",
       "                                                ...  \n",
       "Pedestrian emerged from behindother vehicles       12\n",
       "Vehicle moving back - out of control                9\n",
       "Unknown animals                                     7\n",
       "Animals - Other tame animals                        5\n",
       "Pedestrian emerged from behindmotorcycle            1\n",
       "Name: Sub Dca Code Desc, Length: 114, dtype: int64"
      ]
     },
     "execution_count": 19,
     "metadata": {},
     "output_type": "execute_result"
    }
   ],
   "source": [
    "df = df.drop(columns = [\"SUB_DCA_SEQ\", \"SUB_DCA_CODE\"]).set_index(\"ACCIDENT_NO\")\n",
    "df.head()"
   ]
  }
 ],
 "metadata": {
  "interpreter": {
   "hash": "b5bf3126fcf244ff5ac9fc2cf1909ebb37adde4bc8219a2b7ff5fa45e97d9ab6"
  },
  "kernelspec": {
   "display_name": "Python 3.9.7 ('enea_task')",
   "language": "python",
   "name": "python3"
  },
  "language_info": {
   "codemirror_mode": {
    "name": "ipython",
    "version": 3
   },
   "file_extension": ".py",
   "mimetype": "text/x-python",
   "name": "python",
   "nbconvert_exporter": "python",
   "pygments_lexer": "ipython3",
   "version": "3.9.7"
  },
  "orig_nbformat": 4
 },
 "nbformat": 4,
 "nbformat_minor": 2
}
